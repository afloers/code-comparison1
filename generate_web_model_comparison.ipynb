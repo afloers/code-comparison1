{
 "cells": [
  {
   "cell_type": "code",
   "execution_count": 37,
   "metadata": {},
   "outputs": [],
   "source": [
    "import pandas as pd\n",
    "import datetime\n",
    "import os\n",
    "from jinja2 import Environment, PackageLoader, select_autoescape, FileSystemLoader\n",
    "import subprocess"
   ]
  },
  {
   "cell_type": "code",
   "execution_count": 33,
   "metadata": {},
   "outputs": [],
   "source": [
    "env = Environment(\n",
    "    loader=FileSystemLoader('.'),\n",
    "    trim_blocks = True,\n",
    "    autoescape=select_autoescape(['html', 'ipynb'])\n",
    ")"
   ]
  },
  {
   "cell_type": "code",
   "execution_count": 40,
   "metadata": {},
   "outputs": [],
   "source": [
    "process = subprocess.Popen(['git', 'rev-parse', 'HEAD'], shell=False, stdout=subprocess.PIPE, cwd='data1')\n",
    "git_head_hash = process.communicate()[0].strip()"
   ]
  },
  {
   "cell_type": "code",
   "execution_count": 34,
   "metadata": {},
   "outputs": [],
   "source": [
    "with open('plotting_snia_toy06_test_template.ipynb') as fh:\n",
    "    template_str = fh.read()\n",
    "with open('plotting_model_template.ipynb.j2', 'w') as fh:\n",
    "    fh.write(template_str.replace('toy06', '{{ model_name }}'))"
   ]
  },
  {
   "cell_type": "code",
   "execution_count": 35,
   "metadata": {},
   "outputs": [],
   "source": [
    "plotting_template = env.get_template('plotting_model_template.ipynb.j2')"
   ]
  },
  {
   "cell_type": "code",
   "execution_count": 36,
   "metadata": {},
   "outputs": [],
   "source": [
    "for model in ['toy01', 'toy06', 'ddc10', 'ddc25']:\n",
    "    nb_fname = 'plotting_{0}.ipynb'.format(model)\n",
    "    with open(nb_fname, 'w') as fh:\n",
    "        fh.write(plotting_template.render({'model_name': model, \n",
    "                                           'time_generated':str(datetime.datetime.now()),\n",
    "                                           'data1_git_hash':git_head_hash}))\n",
    "    os.system('jupyter-nbconvert {0} --allow-errors --clear-output --inplace --execute --to notebook'.format(nb_fname))\n",
    "    os.system('jupyter-nbconvert {0} --no-input'.format(nb_fname))"
   ]
  },
  {
   "cell_type": "code",
   "execution_count": 11,
   "metadata": {},
   "outputs": [],
   "source": [
    "!mv *.html ../sn-rad-trans.github.io/"
   ]
  },
  {
   "cell_type": "code",
   "execution_count": null,
   "metadata": {},
   "outputs": [],
   "source": []
  }
 ],
 "metadata": {
  "kernelspec": {
   "display_name": "Python 3",
   "language": "python",
   "name": "python3"
  },
  "language_info": {
   "codemirror_mode": {
    "name": "ipython",
    "version": 3
   },
   "file_extension": ".py",
   "mimetype": "text/x-python",
   "name": "python",
   "nbconvert_exporter": "python",
   "pygments_lexer": "ipython3",
   "version": "3.7.3"
  }
 },
 "nbformat": 4,
 "nbformat_minor": 2
}
